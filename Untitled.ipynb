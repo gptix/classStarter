{
 "cells": [
  {
   "cell_type": "markdown",
   "metadata": {},
   "source": [
    "# ClassStarter\n",
    "- Like Kickstarter, but for classes at Hackerspaces\n",
    "\n",
    "## Entities\n",
    "- Person\n",
    "  - name\n",
    "  - email\n",
    "  - phone\n",
    "  - photo\n",
    "  - link to attendance record\n",
    "  - subclasses\n",
    "    - Student\n",
    "    - Instructor\n",
    "- Lesson iteration\n",
    "  - lesson definition\n",
    "  - venue\n",
    "  - schedule\n",
    "  - min price\n",
    "  - min revenue\n",
    "  - max attendance\n",
    "  - description\n",
    "- Venue\n",
    "  - name\n",
    "  - address\n",
    "- Lesson Plan\n",
    "  - Description\n",
    "  - proposed min price\n",
    "  - instructor tools\n",
    "  - instructor materials\n",
    "  - student tools\n",
    "  - student materials\n",
    "  - duration\n",
    "  - limitation policiles (age, prerequisites)\n",
    "  \n",
    "  Course (one iteration)\n",
    "- Payment\n",
    "- Bid\n",
    "- market\n",
    "  - lesson instance\n",
    "  - bids\n",
    "\n",
    "## Generic methods\n",
    "- Propose a lesson specification\n",
    "- Schedule a lesson event\n",
    "- bid on a class\n",
    "- pay into escrow\n",
    "- refund\n",
    "- sweep payments from escrow\n",
    "- attend a lesson\n",
    "\n",
    " \n",
    " "
   ]
  },
  {
   "cell_type": "code",
   "execution_count": 4,
   "metadata": {},
   "outputs": [
    {
     "data": {
      "text/plain": [
       "#<STANDARD-GENERIC-FUNCTION COMMON-LISP-USER::BID (0)>"
      ]
     },
     "execution_count": 4,
     "metadata": {},
     "output_type": "execute_result"
    }
   ],
   "source": [
    "(defgeneric bid (lesson-market attendee-count amount-per-attendee)\n",
    "  (:documentation \"Place a bid on a seat (or seats) at a lesson event.\"))"
   ]
  },
  {
   "cell_type": "code",
   "execution_count": 6,
   "metadata": {},
   "outputs": [
    {
     "data": {
      "text/plain": [
       "#<STANDARD-GENERIC-FUNCTION COMMON-LISP-USER::SHOW-REPORT (0)>"
      ]
     },
     "execution_count": 6,
     "metadata": {},
     "output_type": "execute_result"
    }
   ],
   "source": [
    "(defgeneric show-report (market)\n",
    "  (:documentation \"Withdraw the specified amount from the account.\n",
    "Signal an error if the current balance is less than amount.\"))"
   ]
  },
  {
   "cell_type": "code",
   "execution_count": null,
   "metadata": {},
   "outputs": [],
   "source": [
    "(defmethod bid ((market lesson-market) attendee-count amount-per-attendee)\n",
    "  (when (>= (balance account) amount)\n",
    "    (error \"Account overdrawn.\"))\n",
    "  (decf (balance account) amount))"
   ]
  },
  {
   "cell_type": "code",
   "execution_count": 14,
   "metadata": {},
   "outputs": [
    {
     "data": {
      "text/plain": [
       "(:LESSON-ID 1 :SEATS 10 :MIN-PRICE 1 :MIN-REV 100 :MAX-SEATS 12 :BIDS NIL)"
      ]
     },
     "execution_count": 14,
     "metadata": {},
     "output_type": "execute_result"
    },
    {
     "name": "stdout",
     "output_type": "stream",
     "text": [
      "undefined variable: LESSON-MARKET\n"
     ]
    }
   ],
   "source": [
    "(setf lesson-market '(:lesson-id 1 :seats 10 :min-price 1 :min-rev 100 :max-seats 12 :bids ()))"
   ]
  },
  {
   "cell_type": "code",
   "execution_count": 12,
   "metadata": {},
   "outputs": [
    {
     "data": {
      "text/plain": [
       "13"
      ]
     },
     "execution_count": 12,
     "metadata": {},
     "output_type": "execute_result"
    },
    {
     "name": "stdout",
     "output_type": "stream",
     "text": [
      "undefined variable: LESSON-MARKET\n"
     ]
    }
   ],
   "source": [
    "(setf (getf lesson-market :max-seats) 13)"
   ]
  },
  {
   "cell_type": "code",
   "execution_count": 15,
   "metadata": {},
   "outputs": [
    {
     "data": {
      "text/plain": [
       "(:LESSON-ID 1 :SEATS 10 :MIN-PRICE 1 :MIN-REV 100 :MAX-SEATS 12 :BIDS NIL)"
      ]
     },
     "execution_count": 15,
     "metadata": {},
     "output_type": "execute_result"
    }
   ],
   "source": [
    "lesson-market"
   ]
  },
  {
   "cell_type": "code",
   "execution_count": 24,
   "metadata": {},
   "outputs": [
    {
     "data": {
      "text/plain": [
       "BID-ON-LESSON"
      ]
     },
     "execution_count": 24,
     "metadata": {},
     "output_type": "execute_result"
    },
    {
     "name": "stdout",
     "output_type": "stream",
     "text": [
      "\n",
      "SIMPLE-STYLE-WARNING: \n",
      "  The variable STUDENT-NAME is defined but never used.\n",
      "\n",
      "SIMPLE-STYLE-WARNING: \n",
      "  The variable LESSON-ID is defined but never used.\n",
      "\n",
      "SIMPLE-STYLE-WARNING: \n",
      "  The variable SEATS-DESIRED is defined but never used.\n",
      "\n",
      "SIMPLE-STYLE-WARNING: \n",
      "  The variable AMOUNT-PER-SEAT is defined but never used.\n",
      "\n",
      "REDEFINITION-WITH-DEFUN: \n",
      "  redefining COMMON-LISP-USER::BID-ON-LESSON in DEFUN\n"
     ]
    },
    {
     "name": "stderr",
     "output_type": "stream",
     "text": [
      "; in: DEFUN BID-ON-LESSON\n",
      ";     (SETF BIDS (GETF LESSON-MARKET :BIDS)\n",
      ";           (CONS\n",
      ";            (LIST :STUDENT-NAME STUDENT-NAME :SEATS-DESIRED SEATS-DESIRED\n",
      ";                  :AMOUNT-PER-SEAT AMOUNT-PER-SEAT)))\n",
      "\n",
      "; \n",
      "; caught ERROR:\n",
      ";   during macroexpansion of\n",
      ";   (SETF BIDS #\n",
      ";         #).\n",
      ";   Use *BREAK-ON-SIGNALS* to intercept.\n",
      ";   \n",
      ";    odd number of args to SETF: (SETF BIDS (GETF LESSON-MARKET :BIDS)\n",
      ";                                      (CONS\n",
      ";                                       (LIST :STUDENT-NAME STUDENT-NAME\n",
      ";                                             :SEATS-DESIRED SEATS-DESIRED\n",
      ";                                             :AMOUNT-PER-SEAT AMOUNT-PER-SEAT)))\n",
      "; \n",
      "; compilation unit finished\n",
      ";   caught 1 ERROR condition\n"
     ]
    }
   ],
   "source": [
    "(defun bid-on-lesson (student-name lesson-id seats-desired amount-per-seat)\n",
    "    (setf bids (getf lesson-market :bids)\n",
    "        (cons (list :student-name student-name :seats-desired seats-desired :amount-per-seat amount-per-seat))))     "
   ]
  },
  {
   "cell_type": "code",
   "execution_count": 21,
   "metadata": {},
   "outputs": [
    {
     "data": {
      "text/plain": [
       "((:STUDENT-NAME JUD :SEATS-DESIRED 1 :AMOUNT-PER-SEAT 25))"
      ]
     },
     "execution_count": 21,
     "metadata": {},
     "output_type": "execute_result"
    }
   ],
   "source": [
    "(bid-on-lesson 'jud' 1 1 25)"
   ]
  },
  {
   "cell_type": "code",
   "execution_count": 22,
   "metadata": {},
   "outputs": [
    {
     "data": {
      "text/plain": [
       "(:LESSON-ID 1 :SEATS 10 :MIN-PRICE 1 :MIN-REV 100 :MAX-SEATS 12 :BIDS NIL)"
      ]
     },
     "execution_count": 22,
     "metadata": {},
     "output_type": "execute_result"
    }
   ],
   "source": [
    "lesson-market"
   ]
  },
  {
   "cell_type": "code",
   "execution_count": null,
   "metadata": {},
   "outputs": [],
   "source": []
  }
 ],
 "metadata": {
  "kernelspec": {
   "display_name": "Common Lisp",
   "language": "common-lisp",
   "name": "common-lisp"
  },
  "language_info": {
   "codemirror_mode": "text/x-common-lisp",
   "file_extension": ".lisp",
   "mimetype": "text/x-common-lisp",
   "name": "common-lisp",
   "pygments_lexer": "common-lisp",
   "version": "1.4.5.debian"
  }
 },
 "nbformat": 4,
 "nbformat_minor": 4
}
